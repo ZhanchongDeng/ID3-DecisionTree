{
 "cells": [
  {
   "cell_type": "markdown",
   "metadata": {},
   "source": [
    "# PA2 - ID3 Decision Tree #"
   ]
  },
  {
   "cell_type": "markdown",
   "metadata": {},
   "source": [
    "Zhanchong Deng  \n"
   ]
  },
  {
   "cell_type": "markdown",
   "metadata": {},
   "source": [
    "A15491777  "
   ]
  },
  {
   "cell_type": "markdown",
   "metadata": {},
   "source": [
    "#### Necessary Imports ####"
   ]
  },
  {
   "cell_type": "code",
   "execution_count": 1,
   "metadata": {},
   "outputs": [],
   "source": [
    "%load_ext autoreload\n",
    "%autoreload 2\n",
    "import numpy as np\n",
    "import pandas as pd\n",
    "import ID3 as pa2\n",
    "from scipy.stats import entropy\n",
    "from scipy import stats\n",
    "import matplotlib.pyplot as plt"
   ]
  },
  {
   "cell_type": "markdown",
   "metadata": {},
   "source": [
    "#### Import Data ####"
   ]
  },
  {
   "cell_type": "code",
   "execution_count": 2,
   "metadata": {},
   "outputs": [],
   "source": [
    "training = pa2.loadData('pa2train.txt')\n",
    "validation = pa2.loadData('pa2validation.txt')\n",
    "test = pa2.loadData('pa2test.txt')"
   ]
  },
  {
   "cell_type": "markdown",
   "metadata": {},
   "source": [
    "#### Training, without Pruning ####"
   ]
  },
  {
   "cell_type": "code",
   "execution_count": 3,
   "metadata": {},
   "outputs": [
    {
     "name": "stdout",
     "output_type": "stream",
     "text": [
      "Created a new ID3 tree\n"
     ]
    }
   ],
   "source": [
    "tree = pa2.id3()"
   ]
  },
  {
   "cell_type": "code",
   "execution_count": 4,
   "metadata": {},
   "outputs": [
    {
     "name": "stdout",
     "output_type": "stream",
     "text": [
      "Wall time: 15.9 s\n"
     ]
    }
   ],
   "source": [
    "%time tree.fit(training)"
   ]
  },
  {
   "cell_type": "markdown",
   "metadata": {},
   "source": [
    "___"
   ]
  },
  {
   "cell_type": "markdown",
   "metadata": {},
   "source": [
    "**1) Visualizing resulted Tree**\n",
    "<ul>\n",
    "    <li>Below is my representation of the tree</li>\n",
    "    <li>Number of **tabs** indicates which level the node is at.  </li>\n",
    "    <li>For non leaves: (label)[rule](# of data in this node)</li>\n",
    "    <li>For leaves: (label)[predicted label](# of data in this node)</li>\n",
    "</ul>"
   ]
  },
  {
   "cell_type": "code",
   "execution_count": 5,
   "metadata": {
    "scrolled": true
   },
   "outputs": [
    {
     "name": "stdout",
     "output_type": "stream",
     "text": [
      "(root)[is feature at 5 < 0.5?](num_data:2000)\n",
      "\t(yes)[is feature at 1 < 415000.0?](num_data:1319)\n",
      "\t\t(yes)[is feature at 17 < 2506.5?](num_data:1284)\n",
      "\t\t(no)[is feature at 21 < 208.0?](num_data:35)\n",
      "\t(no)[is feature at 5 < 1.5?](num_data:681)\n",
      "\t\t(yes)[is feature at 20 < 584.5?](num_data:292)\n",
      "\t\t(no)[is feature at 21 < 2006.0?](num_data:389)\n",
      "\n"
     ]
    }
   ],
   "source": [
    "# If root does not count as a level\n",
    "print(tree.printTreeAt(3))"
   ]
  },
  {
   "cell_type": "markdown",
   "metadata": {},
   "source": [
    "___"
   ]
  },
  {
   "cell_type": "markdown",
   "metadata": {},
   "source": [
    "**2) Validation/Test Errors**  "
   ]
  },
  {
   "cell_type": "markdown",
   "metadata": {},
   "source": [
    "Validation Error:  "
   ]
  },
  {
   "cell_type": "code",
   "execution_count": 6,
   "metadata": {},
   "outputs": [
    {
     "data": {
      "text/plain": [
       "0.179"
      ]
     },
     "execution_count": 6,
     "metadata": {},
     "output_type": "execute_result"
    }
   ],
   "source": [
    "tree.error(validation)"
   ]
  },
  {
   "cell_type": "markdown",
   "metadata": {},
   "source": [
    "Test Error:  "
   ]
  },
  {
   "cell_type": "code",
   "execution_count": 7,
   "metadata": {},
   "outputs": [
    {
     "data": {
      "text/plain": [
       "0.173"
      ]
     },
     "execution_count": 7,
     "metadata": {},
     "output_type": "execute_result"
    }
   ],
   "source": [
    "tree.error(test)"
   ]
  },
  {
   "cell_type": "markdown",
   "metadata": {},
   "source": [
    "___"
   ]
  },
  {
   "cell_type": "markdown",
   "metadata": {},
   "source": [
    "**3) Pruning decision tree with Greedy apprach in BFS order**"
   ]
  },
  {
   "cell_type": "markdown",
   "metadata": {},
   "source": [
    "Prune 1 and 2 nodes with validation/test errors:  "
   ]
  },
  {
   "cell_type": "code",
   "execution_count": 8,
   "metadata": {},
   "outputs": [
    {
     "name": "stdout",
     "output_type": "stream",
     "text": [
      "Pruned 1 time(s) with error:\n",
      "\tValidation error: 0.122 \n",
      "\tTest error: 0.117\n",
      "Pruned 2 time(s) with error:\n",
      "\tValidation error: 0.107 \n",
      "\tTest error: 0.103\n"
     ]
    }
   ],
   "source": [
    "tree.pruneTree(validation, test, 2)"
   ]
  },
  {
   "cell_type": "markdown",
   "metadata": {},
   "source": [
    "Tree after two pruned nodes:  "
   ]
  },
  {
   "cell_type": "code",
   "execution_count": 9,
   "metadata": {},
   "outputs": [
    {
     "name": "stdout",
     "output_type": "stream",
     "text": [
      "(root)[is feature at 5 < 0.5?](num_data:2000)\n",
      "\t(yes)[0.0](num_data:1319)\n",
      "\t(no)[1.0](num_data:681)\n",
      "\n"
     ]
    }
   ],
   "source": [
    "print(tree.printTree())"
   ]
  },
  {
   "cell_type": "markdown",
   "metadata": {},
   "source": [
    "___"
   ]
  },
  {
   "cell_type": "markdown",
   "metadata": {},
   "source": [
    "**4) Most prominent feature:**"
   ]
  },
  {
   "cell_type": "markdown",
   "metadata": {},
   "source": [
    "The most prominent feature must be the feature selected as threshold at root.  "
   ]
  },
  {
   "cell_type": "code",
   "execution_count": 10,
   "metadata": {},
   "outputs": [],
   "source": [
    "features_name = open('pa2features.txt')\n",
    "features_name.seek(0)\n",
    "columns = features_name.read().split('\\n')[:-1]"
   ]
  },
  {
   "cell_type": "code",
   "execution_count": 11,
   "metadata": {},
   "outputs": [
    {
     "data": {
      "text/plain": [
       "'PAYMENT_DELAY_SEPTEMBER'"
      ]
     },
     "execution_count": 11,
     "metadata": {},
     "output_type": "execute_result"
    }
   ],
   "source": [
    "columns[tree.root.feature]"
   ]
  },
  {
   "cell_type": "markdown",
   "metadata": {},
   "source": [
    "___"
   ]
  },
  {
   "cell_type": "markdown",
   "metadata": {},
   "source": [
    "**5) Code from ID3.py:**  \n",
    "```python\n",
    "'''\n",
    "Contains all methods for a ID3 Decision Tree.\n",
    "@Author: Zhanchong Deng\n",
    "@Date: 2/15/2020\n",
    "'''\n",
    "import numpy as np\n",
    "import pandas as pd\n",
    "from scipy.stats import entropy\n",
    "from scipy.stats import mode\n",
    "\n",
    "'''\n",
    "Return numpy arrays representing the dataset.\n",
    "@param fp is the file path.\n",
    "@return 2D numpy array, (#entry, 23).\n",
    "'''\n",
    "\n",
    "\n",
    "def loadData(fp):\n",
    "    newfile = open(fp, 'r')\n",
    "    newfile.seek(0)\n",
    "    raw_strings = newfile.read().split(\"\\n\")[:-1]\n",
    "    return np.array([np.array(entry[0:-1].split(\" \"), dtype=\"float\") for entry in raw_strings])\n",
    "\n",
    "\n",
    "'''\n",
    "Node for Decision Tree\n",
    "'''\n",
    "\n",
    "\n",
    "class idNode():\n",
    "    # how many data in this node\n",
    "    numPoints = 0\n",
    "    data = []\n",
    "    # Branches\n",
    "    yes = None\n",
    "    no = None\n",
    "    parent = None\n",
    "    # Is is a leaf?\n",
    "    isLeaf = False\n",
    "    # How to get here\n",
    "    route = \"root\"\n",
    "    # For non Leaves\n",
    "    threshold = -1\n",
    "    feature = -1\n",
    "    # For leaves\n",
    "    rule = -1\n",
    "\n",
    "    def pruneNode(self):\n",
    "        self.yes = None\n",
    "        self.no = None\n",
    "        self.isLeaf = True\n",
    "        self.rule = mode(self.data[:, -1])[0][0]\n",
    "\n",
    "    def toString(self):\n",
    "        if not self.isLeaf:\n",
    "            return \"(\" + self.route + \")\" + \"[is feature at \" + str(self.feature + 1) + \" < \" + str(self.threshold) \\\n",
    "                   + \"?](num_data:\" + str(self.numPoints) + \")\\n\"\n",
    "        else:\n",
    "            return \"(\" + self.route + \")\" + \"[\" + str(self.rule) + \"](num_data:\" + str(self.numPoints) + \")\\n\"\n",
    "\n",
    "\n",
    "'''\n",
    "Decision Tree Object.\n",
    "'''\n",
    "\n",
    "\n",
    "class id3():\n",
    "    # Default Constructor\n",
    "    def __init__(self):\n",
    "        self.root = idNode()\n",
    "        print(\"Created a new ID3 tree\")\n",
    "\n",
    "    '''\n",
    "        Training methods\n",
    "    '''\n",
    "\n",
    "    def fit(self, training_data):\n",
    "        self.build(self.root, training_data)\n",
    "\n",
    "    def build(self, node, v):\n",
    "        # Base case: Stop if it is pure\n",
    "        if self.isPure(v):\n",
    "            # Make it a leaf node.\n",
    "            node.isLeaf = True\n",
    "            node.rule = v[0][-1]\n",
    "            node.numPoints = len(v)\n",
    "\n",
    "        # Parse them according to H(entropy)\n",
    "        else:\n",
    "            node.numPoints = len(v)\n",
    "            node.data = v\n",
    "            # Pick a feature f and threshold t\n",
    "            node.feature = 0\n",
    "            minEntropy = float(\"inf\")\n",
    "            for thisfeature in range(0, len(v[0]) - 1):\n",
    "                v_at_f = v[:, [thisfeature, -1]]\n",
    "                list_of_threshold = self.generateThreshold(v_at_f)\n",
    "                # This feature is not fit for splitting, pick another\n",
    "                if len(list_of_threshold) == 0:\n",
    "                    continue\n",
    "                # Set Threshold as the current best\n",
    "                result = self.maxIG(list_of_threshold, v_at_f)\n",
    "                if result[1] < minEntropy:\n",
    "                    minEntropy = result[1]\n",
    "                    node.feature = thisfeature\n",
    "                    node.threshold = result[0]\n",
    "            # Split them according to the rule\n",
    "            v_yes = v[v[:, node.feature] < node.threshold]\n",
    "            v_no = v[v[:, node.feature] >= node.threshold]\n",
    "            # Create new nodes\n",
    "            node.yes = idNode()\n",
    "            node.yes.route = \"yes\"\n",
    "            node.yes.parent = node\n",
    "            self.build(node.yes, v_yes)\n",
    "            node.no = idNode()\n",
    "            node.no.route = \"no\"\n",
    "            node.no.parent = node\n",
    "            self.build(node.no, v_no)\n",
    "\n",
    "    def isPure(self, vec):\n",
    "        return len(np.unique(vec[:, -1])) == 1\n",
    "\n",
    "    def generateThreshold(self, feature):\n",
    "        # Generate based solemnly on the feature vector\n",
    "        distinct_val = np.sort(np.unique(feature[:, 0]))\n",
    "        return (distinct_val[:-1] + distinct_val[1:]) / 2\n",
    "\n",
    "    def maxIG(self, list_of_threshold, v_at_f):\n",
    "        # Initialize as the first threshold\n",
    "        minthreshold = list_of_threshold[0]\n",
    "        minEntropy = self.entropy_with_threshold(minthreshold, v_at_f)\n",
    "        for i in range(1, len(list_of_threshold)):\n",
    "            newEntropy = self.entropy_with_threshold(list_of_threshold[i], v_at_f)\n",
    "            # update the threshold with the minimum entropy\n",
    "            if minEntropy > newEntropy:\n",
    "                minthreshold = list_of_threshold[i]\n",
    "                minEntropy = newEntropy\n",
    "        return (minthreshold, minEntropy)\n",
    "\n",
    "    def entropy_with_threshold(self, threshold, v_at_f):\n",
    "        # Slice v according to the given threshold\n",
    "        v_yes = v_at_f[v_at_f[:, 0] < threshold]\n",
    "        v_no = v_at_f[v_at_f[:, 0] >= threshold]\n",
    "        # Calculate H(X|Z=yes)\n",
    "        margin_yes = [np.sum(v_yes[:, -1] == num_labels) / len(v_yes) for num_labels in np.unique(v_yes[:, -1])]\n",
    "        h_yes = entropy(margin_yes)\n",
    "        # Calculate H(X|Z=no)\n",
    "        margin_no = [np.sum(v_no[:, -1] == num_labels) / len(v_no) for num_labels in np.unique(v_no[:, -1])]\n",
    "        h_no = entropy(margin_no)\n",
    "        # Calculate H(X|Z)\n",
    "        return len(v_yes) / len(v_at_f) * h_yes + len(v_no) / len(v_at_f) * h_no\n",
    "\n",
    "    '''\n",
    "        Validation methods\n",
    "    '''\n",
    "\n",
    "    def pruneTree(self, validation, test, maxprune):\n",
    "        num_pruned = 0 # Specify how many prune can be done\n",
    "        queue = [self.root] # For BFS\n",
    "        while len(queue) > 0:\n",
    "            # Calculate Current Error\n",
    "            oldError = self.error(validation)\n",
    "            # Use list as a queue\n",
    "            curNode = queue.pop(0)\n",
    "            # Create a deep copy\n",
    "            original = idNode()\n",
    "            original = self.copyNode(curNode)\n",
    "            # Prune it\n",
    "            curNode.pruneNode()\n",
    "            # Compare errors\n",
    "            newError = self.error(validation)\n",
    "            # We screwed up, revert prune\n",
    "            if oldError < newError:\n",
    "                # Edge for root\n",
    "                if curNode.parent is None:\n",
    "                    self.root = original\n",
    "                    original.yes.parent = self.root\n",
    "                    original.no.parent = self.root\n",
    "                else:\n",
    "                    if curNode.route == \"yes\":\n",
    "                        curNode.parent.yes = original\n",
    "                    else:\n",
    "                        curNode.parent.no = original\n",
    "                if not original.yes.isLeaf:\n",
    "                    queue.append(original.yes)\n",
    "                if not original.no.isLeaf:\n",
    "                    queue.append(original.no)\n",
    "\n",
    "            # We pruned new node\n",
    "            else:\n",
    "                num_pruned += 1 # Increment counter\n",
    "                # Display new error and how many node pruned\n",
    "                print(\"Pruned\", num_pruned, \"time(s) with error:\\n\\tValidation error:\", newError, \"\\n\\tTest error:\",\n",
    "                      self.error(test))\n",
    "                # End pruning immediately if reached max\n",
    "                if num_pruned >= maxprune:\n",
    "                    break\n",
    "\n",
    "\n",
    "\n",
    "    def copyNode(self, node):\n",
    "        newNode = idNode()\n",
    "        newNode.numPoints = node.numPoints\n",
    "        newNode.data = np.copy(node.data)\n",
    "        newNode.yes = node.yes\n",
    "        newNode.no = node.no\n",
    "        newNode.parent = node.parent\n",
    "        newNode.isLeaf = node.isLeaf\n",
    "        newNode.route = node.route\n",
    "        newNode.threshold = node.threshold\n",
    "        newNode.feature = node.feature\n",
    "        newNode.rule = node.rule\n",
    "        return newNode\n",
    "\n",
    "    '''\n",
    "        Testing methods\n",
    "    '''\n",
    "\n",
    "    def predict(self, features):\n",
    "        return np.apply_along_axis(self.predictOne, 1, features)\n",
    "\n",
    "    def error(self, test_data):\n",
    "        return np.mean(self.predict(test_data[:, :-1]) != test_data[:, -1])\n",
    "\n",
    "    def predictOne(self, v):\n",
    "        node = self.root\n",
    "        while not node.isLeaf:\n",
    "            # Yes branch\n",
    "            if v[node.feature] < node.threshold:\n",
    "                node = node.yes\n",
    "            else:\n",
    "                node = node.no\n",
    "        # This should never happen\n",
    "        if node.rule == -1:\n",
    "            print(\"There is something wrong with your tree\")\n",
    "        return node.rule\n",
    "\n",
    "    '''\n",
    "        Visualization methods.\n",
    "    '''\n",
    "\n",
    "    def printTree(self):\n",
    "        tree_str = self.printTreeR(self.root, 0, float(\"inf\"))\n",
    "        return tree_str\n",
    "\n",
    "    def printTreeAt(self, maxlevel):\n",
    "        return self.printTreeR(self.root, 0, maxlevel)\n",
    "\n",
    "    def printTreeR(self, curNode, level, maxlevel):\n",
    "        # do yourself\n",
    "        curStr = '\\t' * level + curNode.toString()\n",
    "        # do yes\n",
    "        if not curNode.yes.isLeaf and level + 1 < maxlevel - 1:\n",
    "            curStr += self.printTreeR(curNode.yes, level + 1, maxlevel)\n",
    "        else:\n",
    "            curStr += '\\t' * (level + 1) + curNode.yes.toString()\n",
    "        # do no\n",
    "        if not curNode.no.isLeaf and level + 1 < maxlevel - 1:\n",
    "            curStr += self.printTreeR(curNode.no, level + 1, maxlevel)\n",
    "        else:\n",
    "            curStr += '\\t' * (level + 1) + curNode.no.toString()\n",
    "        return curStr\n",
    "\n",
    "```"
   ]
  }
 ],
 "metadata": {
  "kernelspec": {
   "display_name": "Python 3",
   "language": "python",
   "name": "python3"
  },
  "language_info": {
   "codemirror_mode": {
    "name": "ipython",
    "version": 3
   },
   "file_extension": ".py",
   "mimetype": "text/x-python",
   "name": "python",
   "nbconvert_exporter": "python",
   "pygments_lexer": "ipython3",
   "version": "3.6.7"
  }
 },
 "nbformat": 4,
 "nbformat_minor": 2
}
