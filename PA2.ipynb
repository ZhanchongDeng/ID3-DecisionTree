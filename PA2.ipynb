{
 "cells": [
  {
   "cell_type": "markdown",
   "metadata": {},
   "source": [
    "# PA2 - ID3 Decision Tree #"
   ]
  },
  {
   "cell_type": "markdown",
   "metadata": {},
   "source": [
    "Zhanchong Deng\n"
   ]
  },
  {
   "cell_type": "markdown",
   "metadata": {},
   "source": [
    "A15491777"
   ]
  },
  {
   "cell_type": "markdown",
   "metadata": {},
   "source": [
    "#### Necessary Imports"
   ]
  },
  {
   "cell_type": "code",
   "execution_count": 69,
   "metadata": {},
   "outputs": [
    {
     "name": "stdout",
     "output_type": "stream",
     "text": [
      "The autoreload extension is already loaded. To reload it, use:\n",
      "  %reload_ext autoreload\n"
     ]
    }
   ],
   "source": [
    "%load_ext autoreload\n",
    "%autoreload 2\n",
    "import numpy as np\n",
    "import pandas as pd\n",
    "import ID3 as pa2\n",
    "from scipy.stats import entropy\n",
    "from scipy import stats\n",
    "import matplotlib.pyplot as plt"
   ]
  },
  {
   "cell_type": "markdown",
   "metadata": {},
   "source": [
    "#### Import Data"
   ]
  },
  {
   "cell_type": "code",
   "execution_count": 2,
   "metadata": {},
   "outputs": [],
   "source": [
    "training = pa2.loadData('pa2train.txt')\n",
    "validation = pa2.loadData('pa2validation.txt')\n",
    "test = pa2.loadData('pa2test.txt')"
   ]
  },
  {
   "cell_type": "markdown",
   "metadata": {},
   "source": [
    "#### Training, without Pruning"
   ]
  },
  {
   "cell_type": "code",
   "execution_count": 3,
   "metadata": {},
   "outputs": [
    {
     "name": "stdout",
     "output_type": "stream",
     "text": [
      "Created a new ID3 tree\n"
     ]
    }
   ],
   "source": [
    "tree = pa2.id3()"
   ]
  },
  {
   "cell_type": "code",
   "execution_count": 4,
   "metadata": {},
   "outputs": [
    {
     "name": "stdout",
     "output_type": "stream",
     "text": [
      "CPU times: user 15.4 s, sys: 23.7 ms, total: 15.4 s\n",
      "Wall time: 15.4 s\n"
     ]
    }
   ],
   "source": [
    "%time tree.fit(training)"
   ]
  },
  {
   "cell_type": "markdown",
   "metadata": {},
   "source": [
    "#### Visualizing resulted Tree"
   ]
  },
  {
   "cell_type": "markdown",
   "metadata": {},
   "source": [
    "###### Below is my representation of the tree, with labeled edges and tabs indicating which level is the node at. The children of each node must be right below."
   ]
  },
  {
   "cell_type": "markdown",
   "metadata": {},
   "source": [
    "For non leaves: (label)\\[rule\\](# of data in this node)\n"
   ]
  },
  {
   "cell_type": "markdown",
   "metadata": {},
   "source": [
    "For leaves: (label)\\[predicted label\\](# of data in this node)"
   ]
  },
  {
   "cell_type": "code",
   "execution_count": 5,
   "metadata": {
    "scrolled": true
   },
   "outputs": [
    {
     "name": "stdout",
     "output_type": "stream",
     "text": [
      "(root)[is feature at 5 < 0.5?](num_data:2000)\n",
      "\t(yes)[is feature at 1 < 415000.0?](num_data:1319)\n",
      "\t\t(yes)[is feature at 17 < 2506.5?](num_data:1284)\n",
      "\t\t\t(yes)[is feature at 1 < 75000.0?](num_data:704)\n",
      "\t\t\t(no)[is feature at 1 < 25000.0?](num_data:580)\n",
      "\t\t(no)[is feature at 21 < 208.0?](num_data:35)\n",
      "\t\t\t(yes)[1.0](num_data:4)\n",
      "\t\t\t(no)[is feature at 17 < 2174.0?](num_data:31)\n",
      "\t(no)[is feature at 5 < 1.5?](num_data:681)\n",
      "\t\t(yes)[is feature at 20 < 584.5?](num_data:292)\n",
      "\t\t\t(yes)[is feature at 12 < 231.5?](num_data:134)\n",
      "\t\t\t(no)[is feature at 12 < 1461.0?](num_data:158)\n",
      "\t\t(no)[is feature at 21 < 2006.0?](num_data:389)\n",
      "\t\t\t(yes)[is feature at 19 < 2476.0?](num_data:232)\n",
      "\t\t\t(no)[is feature at 19 < 13075.0?](num_data:157)\n",
      "\n"
     ]
    }
   ],
   "source": [
    "# If root does not count as a level\n",
    "print(tree.printTreeAt(4))"
   ]
  },
  {
   "cell_type": "markdown",
   "metadata": {},
   "source": [
    "#### Validation/Test Errors"
   ]
  },
  {
   "cell_type": "markdown",
   "metadata": {},
   "source": [
    "Validation Error:"
   ]
  },
  {
   "cell_type": "code",
   "execution_count": 6,
   "metadata": {},
   "outputs": [
    {
     "data": {
      "text/plain": [
       "0.179"
      ]
     },
     "execution_count": 6,
     "metadata": {},
     "output_type": "execute_result"
    }
   ],
   "source": [
    "np.mean(tree.predict(validation[:,:-1]) != validation[:,-1])"
   ]
  },
  {
   "cell_type": "markdown",
   "metadata": {},
   "source": [
    "Test Error:"
   ]
  },
  {
   "cell_type": "code",
   "execution_count": 7,
   "metadata": {},
   "outputs": [
    {
     "data": {
      "text/plain": [
       "0.173"
      ]
     },
     "execution_count": 7,
     "metadata": {},
     "output_type": "execute_result"
    }
   ],
   "source": [
    "np.mean(tree.predict(test[:,:-1]) != test[:,-1])"
   ]
  },
  {
   "cell_type": "code",
   "execution_count": 89,
   "metadata": {
    "scrolled": false
   },
   "outputs": [
    {
     "name": "stdout",
     "output_type": "stream",
     "text": [
      "Created a new ID3 tree\n",
      "CPU times: user 15.7 s, sys: 8.98 ms, total: 15.7 s\n",
      "Wall time: 15.7 s\n"
     ]
    }
   ],
   "source": [
    "tree = pa2.id3()\n",
    "%time tree.fit(training)\n",
    "# print(tree.printTreeAt(4))\n",
    "tree.pruneTree(validation)"
   ]
  },
  {
   "cell_type": "code",
   "execution_count": 90,
   "metadata": {},
   "outputs": [
    {
     "name": "stdout",
     "output_type": "stream",
     "text": [
      "(root)[is feature at 5 < 0.5?](num_data:2000)\n",
      "\t(yes)[0.0](num_data:1319)\n",
      "\t(no)[1.0](num_data:681)\n",
      "\n"
     ]
    }
   ],
   "source": [
    "print(tree.printTreeAt(4))"
   ]
  },
  {
   "cell_type": "code",
   "execution_count": 93,
   "metadata": {},
   "outputs": [
    {
     "data": {
      "text/plain": [
       "0.107"
      ]
     },
     "execution_count": 93,
     "metadata": {},
     "output_type": "execute_result"
    }
   ],
   "source": [
    "tree.error(validation)"
   ]
  },
  {
   "cell_type": "code",
   "execution_count": 74,
   "metadata": {},
   "outputs": [
    {
     "data": {
      "text/plain": [
       "1"
      ]
     },
     "execution_count": 74,
     "metadata": {},
     "output_type": "execute_result"
    }
   ],
   "source": [
    "stats.mode(np.array([1,1,1,1,1,5,5]))[0][0]"
   ]
  },
  {
   "cell_type": "code",
   "execution_count": null,
   "metadata": {},
   "outputs": [],
   "source": []
  }
 ],
 "metadata": {
  "kernelspec": {
   "display_name": "Python 3",
   "language": "python",
   "name": "python3"
  },
  "language_info": {
   "codemirror_mode": {
    "name": "ipython",
    "version": 3
   },
   "file_extension": ".py",
   "mimetype": "text/x-python",
   "name": "python",
   "nbconvert_exporter": "python",
   "pygments_lexer": "ipython3",
   "version": "3.6.7"
  }
 },
 "nbformat": 4,
 "nbformat_minor": 2
}
